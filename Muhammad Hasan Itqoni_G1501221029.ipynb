{
 "cells": [
  {
   "attachments": {},
   "cell_type": "markdown",
   "metadata": {},
   "source": [
    "# Sentiment Analysis on Tourist Accomodation Reviews"
   ]
  },
  {
   "attachments": {},
   "cell_type": "markdown",
   "metadata": {},
   "source": [
    "Library"
   ]
  },
  {
   "cell_type": "code",
   "execution_count": 2,
   "metadata": {
    "colab": {
     "base_uri": "https://localhost:8080/"
    },
    "id": "BciyvlJDEvCo",
    "outputId": "45e06528-fb91-4988-d262-0770207aa187"
   },
   "outputs": [
    {
     "name": "stderr",
     "output_type": "stream",
     "text": [
      "[nltk_data] Downloading package stopwords to\n",
      "[nltk_data]     C:\\Users\\itqon\\AppData\\Roaming\\nltk_data...\n",
      "[nltk_data]   Package stopwords is already up-to-date!\n",
      "[nltk_data] Downloading package word2vec_sample to\n",
      "[nltk_data]     C:\\Users\\itqon\\AppData\\Roaming\\nltk_data...\n",
      "[nltk_data]   Package word2vec_sample is already up-to-date!\n",
      "[nltk_data] Downloading package punkt to\n",
      "[nltk_data]     C:\\Users\\itqon\\AppData\\Roaming\\nltk_data...\n",
      "[nltk_data]   Package punkt is already up-to-date!\n",
      "[nltk_data] Downloading package averaged_perceptron_tagger to\n",
      "[nltk_data]     C:\\Users\\itqon\\AppData\\Roaming\\nltk_data...\n",
      "[nltk_data]   Package averaged_perceptron_tagger is already up-to-\n",
      "[nltk_data]       date!\n"
     ]
    }
   ],
   "source": [
    "import nltk\n",
    "import pandas as pd\n",
    "import matplotlib.pyplot as plt\n",
    "nltk.download('stopwords')\n",
    "from nltk.corpus import stopwords\n",
    "import re\n",
    "%matplotlib inline\n",
    "import numpy as np\n",
    "seed_val = 0\n",
    "np.random.seed(seed_val)\n",
    "\n",
    "from sklearn.metrics import f1_score, accuracy_score\n",
    "from sklearn.feature_extraction.text import TfidfVectorizer\n",
    "import gensim\n",
    "nltk.download('word2vec_sample')\n",
    "nltk.download('punkt')\n",
    "nltk.download('averaged_perceptron_tagger')\n",
    "\n",
    "from nltk.data import find\n",
    "word2vec_sample = str(find('models/word2vec_sample/pruned.word2vec.txt'))\n",
    "news_model = gensim.models.KeyedVectors.load_word2vec_format(word2vec_sample, binary=False)\n",
    "from sklearn import svm"
   ]
  },
  {
   "attachments": {},
   "cell_type": "markdown",
   "metadata": {
    "id": "WNJ0COjnWwMI"
   },
   "source": [
    "# Dataset\n",
    "Dataset tersedia secara publik yang di ambil dari Kaggle dengan format CSV dengan nama Trip Advisor Hotel Reviews, 2020. Dataset berasal dari situs akomodasi pariwisata yaitu TripAdvisor. Dataset terdiri dari 20.492 ulasan hotel yang diberikan oleh wisatawan pada situs TripAdvisor dengan 2 kolom/peubah yaitu Review dan Rating"
   ]
  },
  {
   "cell_type": "code",
   "execution_count": 3,
   "metadata": {
    "id": "a-TkUhy_EvC0"
   },
   "outputs": [],
   "source": [
    "#load dataset\n",
    "df=pd.read_csv('tripadvisor_hotel_reviews.csv')"
   ]
  },
  {
   "cell_type": "code",
   "execution_count": 4,
   "metadata": {
    "colab": {
     "base_uri": "https://localhost:8080/",
     "height": 206
    },
    "id": "0LXclxPkEvC2",
    "outputId": "bd6fe059-626b-45c8-b3cd-e575958ec2b1"
   },
   "outputs": [
    {
     "data": {
      "text/html": [
       "<div>\n",
       "<style scoped>\n",
       "    .dataframe tbody tr th:only-of-type {\n",
       "        vertical-align: middle;\n",
       "    }\n",
       "\n",
       "    .dataframe tbody tr th {\n",
       "        vertical-align: top;\n",
       "    }\n",
       "\n",
       "    .dataframe thead th {\n",
       "        text-align: right;\n",
       "    }\n",
       "</style>\n",
       "<table border=\"1\" class=\"dataframe\">\n",
       "  <thead>\n",
       "    <tr style=\"text-align: right;\">\n",
       "      <th></th>\n",
       "      <th>Review</th>\n",
       "      <th>Rating</th>\n",
       "    </tr>\n",
       "  </thead>\n",
       "  <tbody>\n",
       "    <tr>\n",
       "      <th>0</th>\n",
       "      <td>nice hotel expensive parking got good deal sta...</td>\n",
       "      <td>4</td>\n",
       "    </tr>\n",
       "    <tr>\n",
       "      <th>1</th>\n",
       "      <td>ok nothing special charge diamond member hilto...</td>\n",
       "      <td>2</td>\n",
       "    </tr>\n",
       "    <tr>\n",
       "      <th>2</th>\n",
       "      <td>nice rooms not 4* experience hotel monaco seat...</td>\n",
       "      <td>3</td>\n",
       "    </tr>\n",
       "    <tr>\n",
       "      <th>3</th>\n",
       "      <td>unique, great stay, wonderful time hotel monac...</td>\n",
       "      <td>5</td>\n",
       "    </tr>\n",
       "    <tr>\n",
       "      <th>4</th>\n",
       "      <td>great stay great stay, went seahawk game aweso...</td>\n",
       "      <td>5</td>\n",
       "    </tr>\n",
       "  </tbody>\n",
       "</table>\n",
       "</div>"
      ],
      "text/plain": [
       "                                              Review  Rating\n",
       "0  nice hotel expensive parking got good deal sta...       4\n",
       "1  ok nothing special charge diamond member hilto...       2\n",
       "2  nice rooms not 4* experience hotel monaco seat...       3\n",
       "3  unique, great stay, wonderful time hotel monac...       5\n",
       "4  great stay great stay, went seahawk game aweso...       5"
      ]
     },
     "execution_count": 4,
     "metadata": {},
     "output_type": "execute_result"
    }
   ],
   "source": [
    "#lima observasi pertama dari dataset\n",
    "df.head()"
   ]
  },
  {
   "cell_type": "code",
   "execution_count": 5,
   "metadata": {
    "colab": {
     "base_uri": "https://localhost:8080/"
    },
    "id": "kY-V1VffEvC9",
    "outputId": "4b3bdce6-001e-4c17-89f3-721266dbddf4"
   },
   "outputs": [
    {
     "data": {
      "text/plain": [
       "20491"
      ]
     },
     "execution_count": 5,
     "metadata": {},
     "output_type": "execute_result"
    }
   ],
   "source": [
    "#jumlah sampel dataset\n",
    "len(df)"
   ]
  },
  {
   "cell_type": "code",
   "execution_count": 6,
   "metadata": {
    "colab": {
     "base_uri": "https://localhost:8080/"
    },
    "id": "bNUL0x_JdByh",
    "outputId": "e85f9786-dbfb-49fe-e180-bc85699c7c00"
   },
   "outputs": [
    {
     "data": {
      "text/plain": [
       "Review    object\n",
       "Rating     int64\n",
       "dtype: object"
      ]
     },
     "execution_count": 6,
     "metadata": {},
     "output_type": "execute_result"
    }
   ],
   "source": [
    "#tipe data\n",
    "df.dtypes"
   ]
  },
  {
   "cell_type": "code",
   "execution_count": 7,
   "metadata": {},
   "outputs": [
    {
     "data": {
      "text/plain": [
       "0"
      ]
     },
     "execution_count": 7,
     "metadata": {},
     "output_type": "execute_result"
    }
   ],
   "source": [
    "#cek missing value pada kolom Review\n",
    "df[\"Review\"].isna().sum()"
   ]
  },
  {
   "cell_type": "code",
   "execution_count": 8,
   "metadata": {},
   "outputs": [
    {
     "data": {
      "text/plain": [
       "0"
      ]
     },
     "execution_count": 8,
     "metadata": {},
     "output_type": "execute_result"
    }
   ],
   "source": [
    "#cek missing value pada kolom Rating\n",
    "df[\"Rating\"].isna().sum()"
   ]
  },
  {
   "cell_type": "code",
   "execution_count": 9,
   "metadata": {
    "colab": {
     "base_uri": "https://localhost:8080/"
    },
    "id": "E3VkeGhgY4hP",
    "outputId": "a41810de-a725-420b-db9b-c5720b0b9edb"
   },
   "outputs": [
    {
     "name": "stdout",
     "output_type": "stream",
     "text": [
      "[1, 2, 3, 4, 5]\n"
     ]
    }
   ],
   "source": [
    "#cek unique value kolom rating\n",
    "print(sorted(df['Rating'].unique()))"
   ]
  },
  {
   "cell_type": "code",
   "execution_count": 10,
   "metadata": {
    "colab": {
     "base_uri": "https://localhost:8080/",
     "height": 264
    },
    "id": "a1OvuaTTZKTa",
    "outputId": "b2aef9a6-c22f-4a6f-f9e5-4ed413253e8a"
   },
   "outputs": [
    {
     "data": {
      "image/png": "[encoded data removed]",
      "text/plain": [
       "<Figure size 640x480 with 1 Axes>"
      ]
     },
     "metadata": {},
     "output_type": "display_data"
    }
   ],
   "source": [
    "#Cek distribusi Rating\n",
    "df['Rating'].value_counts().plot.pie(autopct='%1.1f%%')\n",
    "plt.title('Distribution of the ranking values on the dataset')\n",
    "plt.show()"
   ]
  },
  {
   "attachments": {},
   "cell_type": "markdown",
   "metadata": {},
   "source": [
    "# Pre-processing\n",
    "Pertama melakukan pelabelan pada kolom rating, dimana rating 1-2 sebagai sentimen negatif, rating 3 sebagai sentimen netral, dan rating 4-5 sebagai sentimen positif"
   ]
  },
  {
   "cell_type": "code",
   "execution_count": 11,
   "metadata": {
    "id": "QwuGZ-qvEvC5"
   },
   "outputs": [],
   "source": [
    "#generate the new 'sentiment' column\n",
    "classification=[]\n",
    "for i in range(len(df)):\n",
    "    if df['Rating'][i]>=4:\n",
    "        rev='Pos'\n",
    "    elif df['Rating'][i]==3:\n",
    "        rev='Neu'\n",
    "    else:\n",
    "        rev='Neg'\n",
    "    classification.append(rev)\n",
    "df['sentiment']=classification"
   ]
  },
  {
   "cell_type": "code",
   "execution_count": 12,
   "metadata": {
    "colab": {
     "base_uri": "https://localhost:8080/",
     "height": 206
    },
    "id": "00yQlribEvC7",
    "outputId": "064f2781-772b-453a-b55f-544ab89ba88e"
   },
   "outputs": [
    {
     "data": {
      "text/html": [
       "<div>\n",
       "<style scoped>\n",
       "    .dataframe tbody tr th:only-of-type {\n",
       "        vertical-align: middle;\n",
       "    }\n",
       "\n",
       "    .dataframe tbody tr th {\n",
       "        vertical-align: top;\n",
       "    }\n",
       "\n",
       "    .dataframe thead th {\n",
       "        text-align: right;\n",
       "    }\n",
       "</style>\n",
       "<table border=\"1\" class=\"dataframe\">\n",
       "  <thead>\n",
       "    <tr style=\"text-align: right;\">\n",
       "      <th></th>\n",
       "      <th>Review</th>\n",
       "      <th>Rating</th>\n",
       "      <th>sentiment</th>\n",
       "    </tr>\n",
       "  </thead>\n",
       "  <tbody>\n",
       "    <tr>\n",
       "      <th>0</th>\n",
       "      <td>nice hotel expensive parking got good deal sta...</td>\n",
       "      <td>4</td>\n",
       "      <td>Pos</td>\n",
       "    </tr>\n",
       "    <tr>\n",
       "      <th>1</th>\n",
       "      <td>ok nothing special charge diamond member hilto...</td>\n",
       "      <td>2</td>\n",
       "      <td>Neg</td>\n",
       "    </tr>\n",
       "    <tr>\n",
       "      <th>2</th>\n",
       "      <td>nice rooms not 4* experience hotel monaco seat...</td>\n",
       "      <td>3</td>\n",
       "      <td>Neu</td>\n",
       "    </tr>\n",
       "    <tr>\n",
       "      <th>3</th>\n",
       "      <td>unique, great stay, wonderful time hotel monac...</td>\n",
       "      <td>5</td>\n",
       "      <td>Pos</td>\n",
       "    </tr>\n",
       "    <tr>\n",
       "      <th>4</th>\n",
       "      <td>great stay great stay, went seahawk game aweso...</td>\n",
       "      <td>5</td>\n",
       "      <td>Pos</td>\n",
       "    </tr>\n",
       "  </tbody>\n",
       "</table>\n",
       "</div>"
      ],
      "text/plain": [
       "                                              Review  Rating sentiment\n",
       "0  nice hotel expensive parking got good deal sta...       4       Pos\n",
       "1  ok nothing special charge diamond member hilto...       2       Neg\n",
       "2  nice rooms not 4* experience hotel monaco seat...       3       Neu\n",
       "3  unique, great stay, wonderful time hotel monac...       5       Pos\n",
       "4  great stay great stay, went seahawk game aweso...       5       Pos"
      ]
     },
     "execution_count": 12,
     "metadata": {},
     "output_type": "execute_result"
    }
   ],
   "source": [
    "df.head()"
   ]
  },
  {
   "attachments": {},
   "cell_type": "markdown",
   "metadata": {},
   "source": [
    "Distribusi setelah dilakukan pelabelan kolom rating"
   ]
  },
  {
   "cell_type": "code",
   "execution_count": 13,
   "metadata": {
    "colab": {
     "base_uri": "https://localhost:8080/",
     "height": 264
    },
    "id": "r_lVQBC0EvC-",
    "outputId": "3aa4a80e-3a85-469e-eb77-2f7987182cdd"
   },
   "outputs": [
    {
     "data": {
      "image/png": "[encoded data removed]",
      "text/plain": [
       "<Figure size 640x480 with 1 Axes>"
      ]
     },
     "metadata": {},
     "output_type": "display_data"
    }
   ],
   "source": [
    "df['sentiment'].value_counts().plot.pie(autopct='%1.1f%%')\n",
    "plt.title('Distribution of sentiments on the dataset')\n",
    "plt.savefig('sentimentDistribution.png')\n",
    "plt.show()"
   ]
  },
  {
   "attachments": {},
   "cell_type": "markdown",
   "metadata": {},
   "source": [
    "Berikut contoh kalimat ulasan dengan label positif dan negatif"
   ]
  },
  {
   "cell_type": "code",
   "execution_count": 14,
   "metadata": {
    "colab": {
     "base_uri": "https://localhost:8080/"
    },
    "id": "16FiOMs1EvDB",
    "outputId": "a53c8d2a-8cde-49d4-a7a7-5142cf0db6b6"
   },
   "outputs": [
    {
     "name": "stdout",
     "output_type": "stream",
     "text": [
      "nice hotel expensive parking got good deal stay hotel anniversary, arrived late evening took advice previous reviews did valet parking, check quick easy, little disappointed non-existent view room room clean nice size, bed comfortable woke stiff neck high pillows, not soundproof like heard music room night morning loud bangs doors opening closing hear people talking hallway, maybe just noisy neighbors, aveda bath products nice, did not goldfish stay nice touch taken advantage staying longer, location great walking distance shopping, overall nice experience having pay 40 parking night,  \n",
      "Pos\n"
     ]
    }
   ],
   "source": [
    "print(df['Review'][0])\n",
    "print(df['sentiment'][0])"
   ]
  },
  {
   "cell_type": "code",
   "execution_count": 15,
   "metadata": {},
   "outputs": [
    {
     "name": "stdout",
     "output_type": "stream",
     "text": [
      "ok nothing special charge diamond member hilton decided chain shot 20th anniversary seattle, start booked suite paid extra website description not, suite bedroom bathroom standard hotel room, took printed reservation desk showed said things like tv couch ect desk clerk told oh mixed suites description kimpton website sorry free breakfast, got kidding, embassy suits sitting room bathroom bedroom unlike kimpton calls suite, 5 day stay offer correct false advertising, send kimpton preferred guest website email asking failure provide suite advertised website reservation description furnished hard copy reservation printout website desk manager duty did not reply solution, send email trip guest survey did not follow email mail, guess tell concerned guest.the staff ranged indifferent not helpful, asked desk good breakfast spots neighborhood hood told no hotels, gee best breakfast spots seattle 1/2 block away convenient hotel does not know exist, arrived late night 11 pm inside run bellman busy chating cell phone help bags.prior arrival emailed hotel inform 20th anniversary half really picky wanted make sure good, got nice email saying like deliver bottle champagne chocolate covered strawberries room arrival celebrate, told needed foam pillows, arrival no champagne strawberries no foam pillows great room view alley high rise building good not better housekeeping staff cleaner room property, impressed left morning shopping room got short trips 2 hours, beds comfortable.not good ac-heat control 4 x 4 inch screen bring green shine directly eyes night, light sensitive tape controls.this not 4 start hotel clean business hotel super high rates, better chain hotels seattle,  \n",
      "Neg\n"
     ]
    }
   ],
   "source": [
    "print(df['Review'][1])\n",
    "print(df['sentiment'][1])"
   ]
  },
  {
   "attachments": {},
   "cell_type": "markdown",
   "metadata": {},
   "source": [
    "### Tahapan pre-processing \n",
    "##### SVM\n",
    "##### 1. Pembersihan kata \n",
    "##### 3. melakukan bag of words, stopword removal, dan ekstraksi 500 fitur kata yang paling sering muncul.\n",
    "\n",
    "##### Lexicon Based\n",
    "##### 1. Tidak dilakukan preprocessing"
   ]
  },
  {
   "cell_type": "code",
   "execution_count": 16,
   "metadata": {
    "id": "uPSsGKGIEvDD"
   },
   "outputs": [],
   "source": [
    "#define fungsi untuk cleaning data\n",
    "def clean_rev_1(text):\n",
    "    text.lower()\n",
    "    #hapus semua yang bukan huruf\n",
    "    text=re.sub('[^a-z]', \" \", text)\n",
    "    return text  "
   ]
  },
  {
   "cell_type": "code",
   "execution_count": 17,
   "metadata": {
    "id": "2gF4NiZTEvDG"
   },
   "outputs": [],
   "source": [
    "#apply fungsi ke kolom reviews\n",
    "simple_cleaned_reviews=[clean_rev_1(df['Review'][i]) for i in range(len(df))]"
   ]
  },
  {
   "cell_type": "code",
   "execution_count": 18,
   "metadata": {
    "id": "VmmY7gZVEvDI"
   },
   "outputs": [],
   "source": [
    "#masukkan ke dataframe\n",
    "df['simple_cleaned_reviews']=simple_cleaned_reviews"
   ]
  },
  {
   "cell_type": "code",
   "execution_count": 19,
   "metadata": {
    "colab": {
     "base_uri": "https://localhost:8080/",
     "height": 206
    },
    "id": "CVt8W_M7EvDK",
    "outputId": "ca923846-d05c-4f16-b0fe-d390dd34a71d"
   },
   "outputs": [
    {
     "data": {
      "text/html": [
       "<div>\n",
       "<style scoped>\n",
       "    .dataframe tbody tr th:only-of-type {\n",
       "        vertical-align: middle;\n",
       "    }\n",
       "\n",
       "    .dataframe tbody tr th {\n",
       "        vertical-align: top;\n",
       "    }\n",
       "\n",
       "    .dataframe thead th {\n",
       "        text-align: right;\n",
       "    }\n",
       "</style>\n",
       "<table border=\"1\" class=\"dataframe\">\n",
       "  <thead>\n",
       "    <tr style=\"text-align: right;\">\n",
       "      <th></th>\n",
       "      <th>Review</th>\n",
       "      <th>Rating</th>\n",
       "      <th>sentiment</th>\n",
       "      <th>simple_cleaned_reviews</th>\n",
       "    </tr>\n",
       "  </thead>\n",
       "  <tbody>\n",
       "    <tr>\n",
       "      <th>0</th>\n",
       "      <td>nice hotel expensive parking got good deal sta...</td>\n",
       "      <td>4</td>\n",
       "      <td>Pos</td>\n",
       "      <td>nice hotel expensive parking got good deal sta...</td>\n",
       "    </tr>\n",
       "    <tr>\n",
       "      <th>1</th>\n",
       "      <td>ok nothing special charge diamond member hilto...</td>\n",
       "      <td>2</td>\n",
       "      <td>Neg</td>\n",
       "      <td>ok nothing special charge diamond member hilto...</td>\n",
       "    </tr>\n",
       "    <tr>\n",
       "      <th>2</th>\n",
       "      <td>nice rooms not 4* experience hotel monaco seat...</td>\n",
       "      <td>3</td>\n",
       "      <td>Neu</td>\n",
       "      <td>nice rooms not    experience hotel monaco seat...</td>\n",
       "    </tr>\n",
       "    <tr>\n",
       "      <th>3</th>\n",
       "      <td>unique, great stay, wonderful time hotel monac...</td>\n",
       "      <td>5</td>\n",
       "      <td>Pos</td>\n",
       "      <td>unique  great stay  wonderful time hotel monac...</td>\n",
       "    </tr>\n",
       "    <tr>\n",
       "      <th>4</th>\n",
       "      <td>great stay great stay, went seahawk game aweso...</td>\n",
       "      <td>5</td>\n",
       "      <td>Pos</td>\n",
       "      <td>great stay great stay  went seahawk game aweso...</td>\n",
       "    </tr>\n",
       "  </tbody>\n",
       "</table>\n",
       "</div>"
      ],
      "text/plain": [
       "                                              Review  Rating sentiment  \\\n",
       "0  nice hotel expensive parking got good deal sta...       4       Pos   \n",
       "1  ok nothing special charge diamond member hilto...       2       Neg   \n",
       "2  nice rooms not 4* experience hotel monaco seat...       3       Neu   \n",
       "3  unique, great stay, wonderful time hotel monac...       5       Pos   \n",
       "4  great stay great stay, went seahawk game aweso...       5       Pos   \n",
       "\n",
       "                              simple_cleaned_reviews  \n",
       "0  nice hotel expensive parking got good deal sta...  \n",
       "1  ok nothing special charge diamond member hilto...  \n",
       "2  nice rooms not    experience hotel monaco seat...  \n",
       "3  unique  great stay  wonderful time hotel monac...  \n",
       "4  great stay great stay  went seahawk game aweso...  "
      ]
     },
     "execution_count": 19,
     "metadata": {},
     "output_type": "execute_result"
    }
   ],
   "source": [
    "df.head()"
   ]
  },
  {
   "cell_type": "code",
   "execution_count": 20,
   "metadata": {
    "id": "NkpKG8Q0EvDL"
   },
   "outputs": [],
   "source": [
    "#shuffle data\n",
    "df_shuffled = df.sample(frac=1).reset_index(drop=True)"
   ]
  },
  {
   "cell_type": "code",
   "execution_count": 21,
   "metadata": {
    "id": "3c9Sx69wEvDT"
   },
   "outputs": [],
   "source": [
    "#Create an array with the labels\n",
    "labels=df_shuffled['sentiment'].values"
   ]
  },
  {
   "cell_type": "code",
   "execution_count": 22,
   "metadata": {
    "id": "FXQmHzVwEvDV"
   },
   "outputs": [],
   "source": [
    "#Define the sentiment labels in 'sentiment order' \n",
    "unique_labels=['Pos', 'Neu','Neg']"
   ]
  },
  {
   "cell_type": "code",
   "execution_count": 24,
   "metadata": {
    "id": "ufo9xvwJEvDp"
   },
   "outputs": [
    {
     "name": "stderr",
     "output_type": "stream",
     "text": [
      "[nltk_data] Downloading package wordnet to\n",
      "[nltk_data]     C:\\Users\\itqon\\AppData\\Roaming\\nltk_data...\n",
      "[nltk_data]   Package wordnet is already up-to-date!\n"
     ]
    }
   ],
   "source": [
    "from nltk.stem import WordNetLemmatizer\n",
    "from nltk import wordnet\n",
    "nltk.download('wordnet')\n",
    "wnl=WordNetLemmatizer()"
   ]
  },
  {
   "cell_type": "code",
   "execution_count": 25,
   "metadata": {
    "id": "XHil5z9GEvDu"
   },
   "outputs": [
    {
     "data": {
      "text/html": [
       "<div>\n",
       "<style scoped>\n",
       "    .dataframe tbody tr th:only-of-type {\n",
       "        vertical-align: middle;\n",
       "    }\n",
       "\n",
       "    .dataframe tbody tr th {\n",
       "        vertical-align: top;\n",
       "    }\n",
       "\n",
       "    .dataframe thead th {\n",
       "        text-align: right;\n",
       "    }\n",
       "</style>\n",
       "<table border=\"1\" class=\"dataframe\">\n",
       "  <thead>\n",
       "    <tr style=\"text-align: right;\">\n",
       "      <th></th>\n",
       "      <th>Review</th>\n",
       "      <th>Rating</th>\n",
       "      <th>sentiment</th>\n",
       "      <th>simple_cleaned_reviews</th>\n",
       "    </tr>\n",
       "  </thead>\n",
       "  <tbody>\n",
       "    <tr>\n",
       "      <th>0</th>\n",
       "      <td>ehhh better punta cana twice compared hotel st...</td>\n",
       "      <td>2</td>\n",
       "      <td>Neg</td>\n",
       "      <td>ehhh better punta cana twice compared hotel st...</td>\n",
       "    </tr>\n",
       "    <tr>\n",
       "      <th>1</th>\n",
       "      <td>4 n't think, decided book atenea night stay de...</td>\n",
       "      <td>2</td>\n",
       "      <td>Neg</td>\n",
       "      <td>n t think  decided book atenea night stay de...</td>\n",
       "    </tr>\n",
       "    <tr>\n",
       "      <th>2</th>\n",
       "      <td>awesome time just returned vacation fantastic ...</td>\n",
       "      <td>4</td>\n",
       "      <td>Pos</td>\n",
       "      <td>awesome time just returned vacation fantastic ...</td>\n",
       "    </tr>\n",
       "    <tr>\n",
       "      <th>3</th>\n",
       "      <td>grand oasis wonderful second time, group 20 fr...</td>\n",
       "      <td>5</td>\n",
       "      <td>Pos</td>\n",
       "      <td>grand oasis wonderful second time  group    fr...</td>\n",
       "    </tr>\n",
       "    <tr>\n",
       "      <th>4</th>\n",
       "      <td>not bad stay stayed hotel family attending jav...</td>\n",
       "      <td>3</td>\n",
       "      <td>Neu</td>\n",
       "      <td>not bad stay stayed hotel family attending jav...</td>\n",
       "    </tr>\n",
       "  </tbody>\n",
       "</table>\n",
       "</div>"
      ],
      "text/plain": [
       "                                              Review  Rating sentiment  \\\n",
       "0  ehhh better punta cana twice compared hotel st...       2       Neg   \n",
       "1  4 n't think, decided book atenea night stay de...       2       Neg   \n",
       "2  awesome time just returned vacation fantastic ...       4       Pos   \n",
       "3  grand oasis wonderful second time, group 20 fr...       5       Pos   \n",
       "4  not bad stay stayed hotel family attending jav...       3       Neu   \n",
       "\n",
       "                              simple_cleaned_reviews  \n",
       "0  ehhh better punta cana twice compared hotel st...  \n",
       "1    n t think  decided book atenea night stay de...  \n",
       "2  awesome time just returned vacation fantastic ...  \n",
       "3  grand oasis wonderful second time  group    fr...  \n",
       "4  not bad stay stayed hotel family attending jav...  "
      ]
     },
     "execution_count": 25,
     "metadata": {},
     "output_type": "execute_result"
    }
   ],
   "source": [
    "df_shuffled.head()"
   ]
  },
  {
   "cell_type": "code",
   "execution_count": 29,
   "metadata": {
    "id": "62MuDLCpEvED"
   },
   "outputs": [],
   "source": [
    "#get the stop words\n",
    "stops=set(stopwords.words('english'))"
   ]
  },
  {
   "cell_type": "code",
   "execution_count": 30,
   "metadata": {
    "id": "iI1vBs18EvEE"
   },
   "outputs": [],
   "source": [
    "#define a function to lemmatise the reviews\n",
    "def lemmatise_clean_review(review):\n",
    "    word_list = nltk.word_tokenize(review)\n",
    "    lemmatized_review = ' '.join([wnl.lemmatize(w) for w in word_list if w not in stops])\n",
    "    return lemmatized_review"
   ]
  },
  {
   "cell_type": "code",
   "execution_count": 31,
   "metadata": {
    "id": "jsoBkxXgEvEE"
   },
   "outputs": [],
   "source": [
    "#lemmatise the reviews\n",
    "cleaned_reviews= [lemmatise_clean_review(review) for review in simple_cleaned_reviews]"
   ]
  },
  {
   "cell_type": "code",
   "execution_count": 35,
   "metadata": {},
   "outputs": [],
   "source": [
    "df_shuffled['cleaned_reviews']=cleaned_reviews"
   ]
  },
  {
   "cell_type": "code",
   "execution_count": 36,
   "metadata": {},
   "outputs": [
    {
     "data": {
      "text/html": [
       "<div>\n",
       "<style scoped>\n",
       "    .dataframe tbody tr th:only-of-type {\n",
       "        vertical-align: middle;\n",
       "    }\n",
       "\n",
       "    .dataframe tbody tr th {\n",
       "        vertical-align: top;\n",
       "    }\n",
       "\n",
       "    .dataframe thead th {\n",
       "        text-align: right;\n",
       "    }\n",
       "</style>\n",
       "<table border=\"1\" class=\"dataframe\">\n",
       "  <thead>\n",
       "    <tr style=\"text-align: right;\">\n",
       "      <th></th>\n",
       "      <th>Review</th>\n",
       "      <th>Rating</th>\n",
       "      <th>sentiment</th>\n",
       "      <th>simple_cleaned_reviews</th>\n",
       "      <th>cleaned_reviews</th>\n",
       "    </tr>\n",
       "  </thead>\n",
       "  <tbody>\n",
       "    <tr>\n",
       "      <th>0</th>\n",
       "      <td>ehhh better punta cana twice compared hotel st...</td>\n",
       "      <td>2</td>\n",
       "      <td>Neg</td>\n",
       "      <td>ehhh better punta cana twice compared hotel st...</td>\n",
       "      <td>nice hotel expensive parking got good deal sta...</td>\n",
       "    </tr>\n",
       "    <tr>\n",
       "      <th>1</th>\n",
       "      <td>4 n't think, decided book atenea night stay de...</td>\n",
       "      <td>2</td>\n",
       "      <td>Neg</td>\n",
       "      <td>n t think  decided book atenea night stay de...</td>\n",
       "      <td>ok nothing special charge diamond member hilto...</td>\n",
       "    </tr>\n",
       "    <tr>\n",
       "      <th>2</th>\n",
       "      <td>awesome time just returned vacation fantastic ...</td>\n",
       "      <td>4</td>\n",
       "      <td>Pos</td>\n",
       "      <td>awesome time just returned vacation fantastic ...</td>\n",
       "      <td>nice room experience hotel monaco seattle good...</td>\n",
       "    </tr>\n",
       "    <tr>\n",
       "      <th>3</th>\n",
       "      <td>grand oasis wonderful second time, group 20 fr...</td>\n",
       "      <td>5</td>\n",
       "      <td>Pos</td>\n",
       "      <td>grand oasis wonderful second time  group    fr...</td>\n",
       "      <td>unique great stay wonderful time hotel monaco ...</td>\n",
       "    </tr>\n",
       "    <tr>\n",
       "      <th>4</th>\n",
       "      <td>not bad stay stayed hotel family attending jav...</td>\n",
       "      <td>3</td>\n",
       "      <td>Neu</td>\n",
       "      <td>not bad stay stayed hotel family attending jav...</td>\n",
       "      <td>great stay great stay went seahawk game awesom...</td>\n",
       "    </tr>\n",
       "    <tr>\n",
       "      <th>...</th>\n",
       "      <td>...</td>\n",
       "      <td>...</td>\n",
       "      <td>...</td>\n",
       "      <td>...</td>\n",
       "      <td>...</td>\n",
       "    </tr>\n",
       "    <tr>\n",
       "      <th>20486</th>\n",
       "      <td>perfect, impressive place, want clean comfy ro...</td>\n",
       "      <td>5</td>\n",
       "      <td>Pos</td>\n",
       "      <td>perfect  impressive place  want clean comfy ro...</td>\n",
       "      <td>best kept secret rd time staying charm star ca...</td>\n",
       "    </tr>\n",
       "    <tr>\n",
       "      <th>20487</th>\n",
       "      <td>loved kuta lagoon just returned bali staying k...</td>\n",
       "      <td>4</td>\n",
       "      <td>Pos</td>\n",
       "      <td>loved kuta lagoon just returned bali staying k...</td>\n",
       "      <td>great location price view hotel great quick pl...</td>\n",
       "    </tr>\n",
       "    <tr>\n",
       "      <th>20488</th>\n",
       "      <td>nice modest hotel just returned italy included...</td>\n",
       "      <td>4</td>\n",
       "      <td>Pos</td>\n",
       "      <td>nice modest hotel just returned italy included...</td>\n",
       "      <td>ok look nice modern outside desk staff n parti...</td>\n",
       "    </tr>\n",
       "    <tr>\n",
       "      <th>20489</th>\n",
       "      <td>great place stay hi australian guy stayed june...</td>\n",
       "      <td>4</td>\n",
       "      <td>Pos</td>\n",
       "      <td>great place stay hi australian guy stayed june...</td>\n",
       "      <td>hotel theft ruined vacation hotel opened sept ...</td>\n",
       "    </tr>\n",
       "    <tr>\n",
       "      <th>20490</th>\n",
       "      <td>picky picky does just got barcelo beach june 1...</td>\n",
       "      <td>3</td>\n",
       "      <td>Neu</td>\n",
       "      <td>picky picky does just got barcelo beach june  ...</td>\n",
       "      <td>people talking ca n believe excellent rating h...</td>\n",
       "    </tr>\n",
       "  </tbody>\n",
       "</table>\n",
       "<p>20491 rows × 5 columns</p>\n",
       "</div>"
      ],
      "text/plain": [
       "                                                  Review  Rating sentiment  \\\n",
       "0      ehhh better punta cana twice compared hotel st...       2       Neg   \n",
       "1      4 n't think, decided book atenea night stay de...       2       Neg   \n",
       "2      awesome time just returned vacation fantastic ...       4       Pos   \n",
       "3      grand oasis wonderful second time, group 20 fr...       5       Pos   \n",
       "4      not bad stay stayed hotel family attending jav...       3       Neu   \n",
       "...                                                  ...     ...       ...   \n",
       "20486  perfect, impressive place, want clean comfy ro...       5       Pos   \n",
       "20487  loved kuta lagoon just returned bali staying k...       4       Pos   \n",
       "20488  nice modest hotel just returned italy included...       4       Pos   \n",
       "20489  great place stay hi australian guy stayed june...       4       Pos   \n",
       "20490  picky picky does just got barcelo beach june 1...       3       Neu   \n",
       "\n",
       "                                  simple_cleaned_reviews  \\\n",
       "0      ehhh better punta cana twice compared hotel st...   \n",
       "1        n t think  decided book atenea night stay de...   \n",
       "2      awesome time just returned vacation fantastic ...   \n",
       "3      grand oasis wonderful second time  group    fr...   \n",
       "4      not bad stay stayed hotel family attending jav...   \n",
       "...                                                  ...   \n",
       "20486  perfect  impressive place  want clean comfy ro...   \n",
       "20487  loved kuta lagoon just returned bali staying k...   \n",
       "20488  nice modest hotel just returned italy included...   \n",
       "20489  great place stay hi australian guy stayed june...   \n",
       "20490  picky picky does just got barcelo beach june  ...   \n",
       "\n",
       "                                         cleaned_reviews  \n",
       "0      nice hotel expensive parking got good deal sta...  \n",
       "1      ok nothing special charge diamond member hilto...  \n",
       "2      nice room experience hotel monaco seattle good...  \n",
       "3      unique great stay wonderful time hotel monaco ...  \n",
       "4      great stay great stay went seahawk game awesom...  \n",
       "...                                                  ...  \n",
       "20486  best kept secret rd time staying charm star ca...  \n",
       "20487  great location price view hotel great quick pl...  \n",
       "20488  ok look nice modern outside desk staff n parti...  \n",
       "20489  hotel theft ruined vacation hotel opened sept ...  \n",
       "20490  people talking ca n believe excellent rating h...  \n",
       "\n",
       "[20491 rows x 5 columns]"
      ]
     },
     "execution_count": 36,
     "metadata": {},
     "output_type": "execute_result"
    }
   ],
   "source": [
    "df_shuffled"
   ]
  },
  {
   "cell_type": "code",
   "execution_count": 38,
   "metadata": {
    "id": "NtxO-Ox-EvEF"
   },
   "outputs": [],
   "source": [
    "#join all the corpus in a single string\n",
    "all_reviews=' '.join(cleaned_reviews)"
   ]
  },
  {
   "cell_type": "code",
   "execution_count": 39,
   "metadata": {
    "id": "Zw6JVIy2EvEF"
   },
   "outputs": [],
   "source": [
    "#Create a frequency distribution of the words in the corpus\n",
    "all_words = nltk.FreqDist(w for w in all_reviews.split())"
   ]
  },
  {
   "cell_type": "code",
   "execution_count": 40,
   "metadata": {},
   "outputs": [
    {
     "data": {
      "text/plain": [
       "FreqDist({'hotel': 54050, 'room': 47779, 'great': 21485, 'n': 19112, 'good': 17491, 'staff': 16706, 'stay': 15601, 'night': 14577, 'day': 13484, 'time': 12981, ...})"
      ]
     },
     "execution_count": 40,
     "metadata": {},
     "output_type": "execute_result"
    }
   ],
   "source": [
    "all_words"
   ]
  },
  {
   "cell_type": "code",
   "execution_count": 41,
   "metadata": {
    "id": "StC_0j24EvEH"
   },
   "outputs": [],
   "source": [
    "#generate a list of the 500 most common words\n",
    "N=500\n",
    "word_features = list(all_words)[:N]"
   ]
  },
  {
   "cell_type": "code",
   "execution_count": 42,
   "metadata": {},
   "outputs": [
    {
     "data": {
      "text/plain": [
       "['hotel',\n",
       " 'room',\n",
       " 'great',\n",
       " 'n',\n",
       " 'good',\n",
       " 'staff',\n",
       " 'stay',\n",
       " 'night',\n",
       " 'day',\n",
       " 'time',\n",
       " 'nice',\n",
       " 'location',\n",
       " 'service',\n",
       " 'beach',\n",
       " 'stayed',\n",
       " 'restaurant',\n",
       " 'breakfast',\n",
       " 'food',\n",
       " 'clean',\n",
       " 'place',\n",
       " 'resort',\n",
       " 'pool',\n",
       " 'like',\n",
       " 'really',\n",
       " 'bed',\n",
       " 'area',\n",
       " 'bar',\n",
       " 'friendly',\n",
       " 'people',\n",
       " 'small']"
      ]
     },
     "execution_count": 42,
     "metadata": {},
     "output_type": "execute_result"
    }
   ],
   "source": [
    "#show the 30 most common features\n",
    "word_features[:30]"
   ]
  },
  {
   "cell_type": "code",
   "execution_count": 43,
   "metadata": {
    "id": "kMSw4VzGEvEI"
   },
   "outputs": [],
   "source": [
    "# build a function to extract the features from each review\n",
    "def review_features(review): \n",
    "    words = nltk.word_tokenize(review) \n",
    "    features = {}\n",
    "    for word in word_features:\n",
    "        features['contains({})'.format(word)] = (word in words)\n",
    "    return features"
   ]
  },
  {
   "cell_type": "code",
   "execution_count": 44,
   "metadata": {
    "id": "nqXGiTpNEvEJ"
   },
   "outputs": [],
   "source": [
    "#extract the features from each review and store this in a list\n",
    "feature_reviews =[review_features(df_shuffled['simple_cleaned_reviews'][i]) for i in range(len(df))]"
   ]
  },
  {
   "cell_type": "code",
   "execution_count": 45,
   "metadata": {
    "id": "tMH6Ic1WEvEJ"
   },
   "outputs": [],
   "source": [
    "#generate a list of sets\n",
    "features_labels_set=[(feature_reviews[i],df_shuffled['sentiment'][i]) for i in range(len(df))]"
   ]
  },
  {
   "cell_type": "code",
   "execution_count": 46,
   "metadata": {
    "id": "t-ebSr6LEvEK"
   },
   "outputs": [],
   "source": [
    "#splitting the data into training and test sets\n",
    "train_data=features_labels_set[:int(len(df)*0.75)]\n",
    "test_data=features_labels_set[int(len(df)*0.75):]"
   ]
  },
  {
   "cell_type": "code",
   "execution_count": 47,
   "metadata": {
    "id": "ibYkzGwmEvEN"
   },
   "outputs": [],
   "source": [
    "#generating only the x test set so we will be able to predict the values and evaluate the models on the same way as the previous models\n",
    "x_test=feature_reviews[int(len(df)*0.75):]"
   ]
  },
  {
   "attachments": {},
   "cell_type": "markdown",
   "metadata": {},
   "source": [
    "#### SVM"
   ]
  },
  {
   "cell_type": "code",
   "execution_count": 48,
   "metadata": {
    "id": "lCkcBO4zO2s8"
   },
   "outputs": [],
   "source": [
    "feature_reviews_list_of_list=[list(review.values()) for review in feature_reviews ]"
   ]
  },
  {
   "cell_type": "code",
   "execution_count": 49,
   "metadata": {
    "id": "fLCtlrtsPMpM"
   },
   "outputs": [],
   "source": [
    "feature_reviews_array=np.array(feature_reviews_list_of_list)"
   ]
  },
  {
   "cell_type": "code",
   "execution_count": 50,
   "metadata": {
    "id": "iuWPZS09PPXG"
   },
   "outputs": [],
   "source": [
    "x_train=feature_reviews_array[:int(len(df)*0.75)]\n",
    "x_test=feature_reviews_array[int(len(df)*0.75):]\n",
    "y_train=labels[:int(len(df)*0.75)]\n",
    "y_test=labels[int(len(df)*0.75):]"
   ]
  },
  {
   "cell_type": "code",
   "execution_count": 51,
   "metadata": {
    "id": "norXu_sHPVy8"
   },
   "outputs": [
    {
     "data": {
      "text/plain": [
       "SVC(decision_function_shape='ovo')"
      ]
     },
     "execution_count": 51,
     "metadata": {},
     "output_type": "execute_result"
    }
   ],
   "source": [
    "clfsvc_500_features = svm.SVC(decision_function_shape='ovo')\n",
    "clfsvc_500_features.fit(x_train,y_train)"
   ]
  },
  {
   "cell_type": "code",
   "execution_count": 52,
   "metadata": {
    "id": "xx1sqrYOPZ2k"
   },
   "outputs": [],
   "source": [
    "y_pred=clfsvc_500_features.predict(x_test)"
   ]
  },
  {
   "cell_type": "code",
   "execution_count": 55,
   "metadata": {
    "id": "vg-82M1aUJnr"
   },
   "outputs": [
    {
     "data": {
      "image/png": "[encoded data removed]",
      "text/plain": [
       "<Figure size 640x480 with 1 Axes>"
      ]
     },
     "metadata": {},
     "output_type": "display_data"
    }
   ],
   "source": [
    "from sklearn.metrics import confusion_matrix\n",
    "import seaborn as sns\n",
    "sns.set()\n",
    "matrix8=confusion_matrix(y_test,y_pred, labels=unique_labels)\n",
    "sns.heatmap(matrix8.T, square=True, annot=True, fmt='d', cbar=False,\n",
    "            xticklabels=unique_labels, yticklabels=unique_labels)\n",
    "plt.xlabel('true label')\n",
    "plt.ylabel('predicted label')\n",
    "plt.title('Suport Vector Machine model, 500 feature extraction')\n",
    "plt.show()"
   ]
  },
  {
   "cell_type": "code",
   "execution_count": 56,
   "metadata": {
    "id": "hZttGWUhUlYL"
   },
   "outputs": [
    {
     "data": {
      "text/plain": [
       "0.8395471403474527"
      ]
     },
     "execution_count": 56,
     "metadata": {},
     "output_type": "execute_result"
    }
   ],
   "source": [
    "accuracySVMFeatureExtraction=accuracy_score(y_test, y_pred)\n",
    "accuracySVMFeatureExtraction"
   ]
  },
  {
   "cell_type": "code",
   "execution_count": 57,
   "metadata": {
    "id": "SqCzu-eqU7dD"
   },
   "outputs": [
    {
     "data": {
      "text/plain": [
       "0.5906668996966675"
      ]
     },
     "execution_count": 57,
     "metadata": {},
     "output_type": "execute_result"
    }
   ],
   "source": [
    "f1_macroSVMFeatureExtraction=f1_score(y_test, y_pred, average='macro')\n",
    "f1_macroSVMFeatureExtraction"
   ]
  },
  {
   "cell_type": "code",
   "execution_count": 58,
   "metadata": {
    "id": "c3b5toz5VY4r"
   },
   "outputs": [
    {
     "data": {
      "text/plain": [
       "array([0.72146739, 0.13680782, 0.91372549])"
      ]
     },
     "execution_count": 58,
     "metadata": {},
     "output_type": "execute_result"
    }
   ],
   "source": [
    "f1_SVMFeatureExtraction=f1_score(y_test, y_pred, average=None)\n",
    "f1_SVMFeatureExtraction"
   ]
  },
  {
   "attachments": {},
   "cell_type": "markdown",
   "metadata": {},
   "source": [
    "#### Lexicon Based\n",
    "1. TextBlob \n",
    "2. NLTK \n",
    "\n",
    "Dataset tidak dilakukan preprocessing dan data split namun langsung dilakukan proses pencocokan kata dengan lexicon based"
   ]
  },
  {
   "attachments": {},
   "cell_type": "markdown",
   "metadata": {},
   "source": [
    "#### 1. TextBlob "
   ]
  },
  {
   "cell_type": "code",
   "execution_count": 59,
   "metadata": {
    "id": "UtY8kfLyVjq2"
   },
   "outputs": [],
   "source": [
    "import textblob\n",
    "from textblob import TextBlob"
   ]
  },
  {
   "cell_type": "code",
   "execution_count": 60,
   "metadata": {
    "id": "3N3K6ag8V3g0"
   },
   "outputs": [],
   "source": [
    "#define a function to predict the sentiment using the polarity value from the TextBlob model. \n",
    "#The reviews which polarity value are close to 0 will be classified as neutral\n",
    "#The reviews with positive polarity higher than 0.1 will be classified as Positives\n",
    "#And the reviews with negative polarity, lower than 0.1 will be classified as Negatives\n",
    "def predict_sentiment(review):\n",
    "    result=TextBlob(review).sentiment\n",
    "    if result.polarity >0.1:\n",
    "        sentiment='Pos'\n",
    "    elif result.polarity<-0.1:\n",
    "        sentiment='Neg'\n",
    "    else:\n",
    "        sentiment='Neu'\n",
    "    return sentiment"
   ]
  },
  {
   "cell_type": "code",
   "execution_count": 61,
   "metadata": {
    "id": "_7FFk98EV51c"
   },
   "outputs": [],
   "source": [
    "#predict the sentiment for each of the reviews\n",
    "text_blob_sentiments=[predict_sentiment(df_shuffled['Review'][i]) for i in range(len(df)) ]"
   ]
  },
  {
   "cell_type": "code",
   "execution_count": 62,
   "metadata": {
    "id": "YaFjQGOfV-Ar"
   },
   "outputs": [],
   "source": [
    "#get the real sentiment\n",
    "real_sentiments=list(df_shuffled['sentiment'])"
   ]
  },
  {
   "cell_type": "code",
   "execution_count": 63,
   "metadata": {
    "id": "n19WPi3pWHdj"
   },
   "outputs": [
    {
     "data": {
      "image/png": "[encoded data removed]",
      "text/plain": [
       "<Figure size 640x480 with 1 Axes>"
      ]
     },
     "metadata": {},
     "output_type": "display_data"
    }
   ],
   "source": [
    "#visualise the results\n",
    "matrix9=confusion_matrix(real_sentiments,text_blob_sentiments, labels=unique_labels)\n",
    "sns.heatmap(matrix9.T, square=True, annot=True, fmt='d', cbar=False,\n",
    "            xticklabels=unique_labels, yticklabels=unique_labels)\n",
    "plt.xlabel('true label')\n",
    "plt.ylabel('predicted label')\n",
    "plt.title('Textblob lexicon for sentiment analysis')\n",
    "plt.show()"
   ]
  },
  {
   "cell_type": "code",
   "execution_count": 64,
   "metadata": {
    "id": "mRD8XnBBWJ3r"
   },
   "outputs": [
    {
     "data": {
      "text/plain": [
       "0.7671172709970231"
      ]
     },
     "execution_count": 64,
     "metadata": {},
     "output_type": "execute_result"
    }
   ],
   "source": [
    "#get the evaluation metrics\n",
    "accuracyTextBlobLexicon=accuracy_score(real_sentiments, text_blob_sentiments)\n",
    "accuracyTextBlobLexicon"
   ]
  },
  {
   "cell_type": "code",
   "execution_count": 65,
   "metadata": {
    "id": "G1LSzfmDW-jL"
   },
   "outputs": [
    {
     "data": {
      "text/plain": [
       "0.4623651844081122"
      ]
     },
     "execution_count": 65,
     "metadata": {},
     "output_type": "execute_result"
    }
   ],
   "source": [
    "f1_macroTextBlobLexicon=f1_score(real_sentiments, text_blob_sentiments, average='macro')\n",
    "f1_macroTextBlobLexicon"
   ]
  },
  {
   "cell_type": "code",
   "execution_count": 66,
   "metadata": {
    "id": "9RBCEdSjXOKz"
   },
   "outputs": [
    {
     "data": {
      "text/plain": [
       "array([0.30609058, 0.18119736, 0.89980762])"
      ]
     },
     "execution_count": 66,
     "metadata": {},
     "output_type": "execute_result"
    }
   ],
   "source": [
    "f1_TextBlobLexicon=f1_score(real_sentiments, text_blob_sentiments, average=None)\n",
    "f1_TextBlobLexicon"
   ]
  },
  {
   "attachments": {},
   "cell_type": "markdown",
   "metadata": {},
   "source": [
    "#### 2. NLTK "
   ]
  },
  {
   "cell_type": "code",
   "execution_count": 67,
   "metadata": {
    "id": "vUAjCrblXuT7"
   },
   "outputs": [
    {
     "name": "stderr",
     "output_type": "stream",
     "text": [
      "[nltk_data] Downloading package vader_lexicon to\n",
      "[nltk_data]     C:\\Users\\itqon\\AppData\\Roaming\\nltk_data...\n"
     ]
    }
   ],
   "source": [
    "from nltk.sentiment.vader import SentimentIntensityAnalyzer\n",
    "nltk.download('vader_lexicon')\n",
    "sia=SentimentIntensityAnalyzer()"
   ]
  },
  {
   "cell_type": "code",
   "execution_count": 68,
   "metadata": {
    "id": "Xofpmrk7YIL6"
   },
   "outputs": [],
   "source": [
    "#define a function to predict the sentiment using the polarity value from the NLTK model built with Vader lexicon. \n",
    "#The reviews which polarity value are close to 0 will be classified as neutral\n",
    "#The reviews with positive polarity higher than 0.1 will be classified as Positives\n",
    "#And the reviews with negative polarity, lower than 0.1 will be classified as Negatives\n",
    "def predict_vader_sentiment(review):\n",
    "    result=sia.polarity_scores(review)['compound']\n",
    "    if result >0.1:\n",
    "        sentiment='Pos'\n",
    "    elif result <-0.1:\n",
    "        sentiment='Neg'\n",
    "    else:\n",
    "        sentiment='Neu'\n",
    "    return sentiment"
   ]
  },
  {
   "cell_type": "code",
   "execution_count": 69,
   "metadata": {
    "id": "qf57SEQpYOKz"
   },
   "outputs": [],
   "source": [
    "vader_sentiments=[predict_vader_sentiment(df_shuffled['Review'][i]) for i in range(len(df))]"
   ]
  },
  {
   "cell_type": "code",
   "execution_count": 70,
   "metadata": {
    "id": "_Txyh2QvYQzS"
   },
   "outputs": [
    {
     "data": {
      "image/png": "[encoded data removed]",
      "text/plain": [
       "<Figure size 640x480 with 1 Axes>"
      ]
     },
     "metadata": {},
     "output_type": "display_data"
    }
   ],
   "source": [
    "matrix10=confusion_matrix(real_sentiments,vader_sentiments, labels=unique_labels)\n",
    "sns.heatmap(matrix10.T, square=True, annot=True, fmt='d', cbar=False,\n",
    "            xticklabels=unique_labels, yticklabels=unique_labels)\n",
    "plt.xlabel('true label')\n",
    "plt.ylabel('predicted label')\n",
    "plt.title('NLTK vader lexicon for sentiment analysis')\n",
    "plt.show()"
   ]
  },
  {
   "cell_type": "code",
   "execution_count": 71,
   "metadata": {
    "id": "ESuGLRnqY5WC"
   },
   "outputs": [
    {
     "data": {
      "text/plain": [
       "0.794251134644478"
      ]
     },
     "execution_count": 71,
     "metadata": {},
     "output_type": "execute_result"
    }
   ],
   "source": [
    "accuracyNLTKVaderLexicon=accuracy_score(real_sentiments, vader_sentiments)\n",
    "accuracyNLTKVaderLexicon"
   ]
  },
  {
   "cell_type": "code",
   "execution_count": 72,
   "metadata": {
    "id": "vzWrzWNkZMOz"
   },
   "outputs": [
    {
     "data": {
      "text/plain": [
       "0.48134791744476607"
      ]
     },
     "execution_count": 72,
     "metadata": {},
     "output_type": "execute_result"
    }
   ],
   "source": [
    "f1_macroNLTKVaderLexicon=f1_score(real_sentiments, vader_sentiments, average='macro')\n",
    "f1_macroNLTKVaderLexicon"
   ]
  },
  {
   "cell_type": "code",
   "execution_count": 73,
   "metadata": {
    "id": "h4FdjXPaZs2L"
   },
   "outputs": [
    {
     "data": {
      "text/plain": [
       "array([0.53993678, 0.0203476 , 0.88375937])"
      ]
     },
     "execution_count": 73,
     "metadata": {},
     "output_type": "execute_result"
    }
   ],
   "source": [
    "f1_NLTKVaderLexicon=f1_score(real_sentiments, vader_sentiments, average=None)\n",
    "f1_NLTKVaderLexicon"
   ]
  },
  {
   "attachments": {},
   "cell_type": "markdown",
   "metadata": {
    "id": "delwoVvKe0Gw"
   },
   "source": [
    "## Evaluasi"
   ]
  },
  {
   "cell_type": "code",
   "execution_count": 74,
   "metadata": {
    "id": "BMYgBmGWjoTd"
   },
   "outputs": [],
   "source": [
    "#join all the f1 arrays into a single array\n",
    "f1_summary=np.concatenate((f1_SVMFeatureExtraction, f1_TextBlobLexicon, f1_NLTKVaderLexicon), axis=0)\n",
    "#reshape it to the correct shape\n",
    "f1_summary=f1_summary.reshape((3,3))\n",
    "#create a dataframe\n",
    "f1_df=pd.DataFrame(f1_summary, columns=[\"f1_'Neg'\", \"f1_'Neu\",\"f1_'Pos\"])"
   ]
  },
  {
   "cell_type": "code",
   "execution_count": 75,
   "metadata": {
    "id": "zwdKe_fjamk7"
   },
   "outputs": [
    {
     "data": {
      "text/html": [
       "<div>\n",
       "<style scoped>\n",
       "    .dataframe tbody tr th:only-of-type {\n",
       "        vertical-align: middle;\n",
       "    }\n",
       "\n",
       "    .dataframe tbody tr th {\n",
       "        vertical-align: top;\n",
       "    }\n",
       "\n",
       "    .dataframe thead th {\n",
       "        text-align: right;\n",
       "    }\n",
       "</style>\n",
       "<table border=\"1\" class=\"dataframe\">\n",
       "  <thead>\n",
       "    <tr style=\"text-align: right;\">\n",
       "      <th></th>\n",
       "      <th>Pre-processing</th>\n",
       "      <th>Model</th>\n",
       "      <th>Accuracy</th>\n",
       "      <th>f1_macroaveraging</th>\n",
       "      <th>f1_'Neg'</th>\n",
       "      <th>f1_'Neu</th>\n",
       "      <th>f1_'Pos</th>\n",
       "    </tr>\n",
       "  </thead>\n",
       "  <tbody>\n",
       "    <tr>\n",
       "      <th>0</th>\n",
       "      <td>lemmatisation and feature extraction</td>\n",
       "      <td>Support Vector Machine</td>\n",
       "      <td>0.839547</td>\n",
       "      <td>0.590667</td>\n",
       "      <td>0.721467</td>\n",
       "      <td>0.136808</td>\n",
       "      <td>0.913725</td>\n",
       "    </tr>\n",
       "    <tr>\n",
       "      <th>1</th>\n",
       "      <td></td>\n",
       "      <td>TextBlob Lexicon</td>\n",
       "      <td>0.767117</td>\n",
       "      <td>0.462365</td>\n",
       "      <td>0.306091</td>\n",
       "      <td>0.181197</td>\n",
       "      <td>0.899808</td>\n",
       "    </tr>\n",
       "    <tr>\n",
       "      <th>2</th>\n",
       "      <td></td>\n",
       "      <td>NLTK Vader Lexicon</td>\n",
       "      <td>0.794251</td>\n",
       "      <td>0.481348</td>\n",
       "      <td>0.539937</td>\n",
       "      <td>0.020348</td>\n",
       "      <td>0.883759</td>\n",
       "    </tr>\n",
       "  </tbody>\n",
       "</table>\n",
       "</div>"
      ],
      "text/plain": [
       "                         Pre-processing                   Model  Accuracy  \\\n",
       "0  lemmatisation and feature extraction  Support Vector Machine  0.839547   \n",
       "1                                              TextBlob Lexicon  0.767117   \n",
       "2                                            NLTK Vader Lexicon  0.794251   \n",
       "\n",
       "   f1_macroaveraging  f1_'Neg'   f1_'Neu   f1_'Pos  \n",
       "0           0.590667  0.721467  0.136808  0.913725  \n",
       "1           0.462365  0.306091  0.181197  0.899808  \n",
       "2           0.481348  0.539937  0.020348  0.883759  "
      ]
     },
     "execution_count": 75,
     "metadata": {},
     "output_type": "execute_result"
    }
   ],
   "source": [
    "#create a dataframe to summarise the preprocessing techniques, the models and the evaluation metrics\n",
    "summary=pd.DataFrame({'Pre-processing':['lemmatisation and feature extraction',\" \",\" \"],\n",
    "                      'Model':['Support Vector Machine','TextBlob Lexicon', 'NLTK Vader Lexicon'],\n",
    "                      'Accuracy':[accuracySVMFeatureExtraction, accuracyTextBlobLexicon,\n",
    "                                  accuracyNLTKVaderLexicon],\n",
    "                     'f1_macroaveraging':[f1_macroSVMFeatureExtraction, f1_macroTextBlobLexicon, f1_macroNLTKVaderLexicon]})\n",
    "summary=pd.concat((summary,f1_df), axis=1)\n",
    "summary"
   ]
  },
  {
   "attachments": {},
   "cell_type": "markdown",
   "metadata": {},
   "source": [
    "Selesai"
   ]
  }
 ],
 "metadata": {
  "colab": {
   "collapsed_sections": [],
   "name": "CW_1.ipynb",
   "provenance": []
  },
  "kernelspec": {
   "display_name": "Python 3 (ipykernel)",
   "language": "python",
   "name": "python3"
  },
  "language_info": {
   "codemirror_mode": {
    "name": "ipython",
    "version": 3
   },
   "file_extension": ".py",
   "mimetype": "text/x-python",
   "name": "python",
   "nbconvert_exporter": "python",
   "pygments_lexer": "ipython3",
   "version": "3.9.13"
  }
 },
 "nbformat": 4,
 "nbformat_minor": 4
}
